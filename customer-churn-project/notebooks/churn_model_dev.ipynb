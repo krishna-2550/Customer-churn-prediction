{
 "cells": [
  {
   "cell_type": "code",
   "execution_count": 4,
   "id": "5030a667-8b48-41cf-9413-7559402f0f79",
   "metadata": {},
   "outputs": [
    {
     "name": "stdout",
     "output_type": "stream",
     "text": [
      "Classification Report:\n",
      "\n",
      "              precision    recall  f1-score   support\n",
      "\n",
      "       False       0.83      0.89      0.86      1033\n",
      "        True       0.62      0.51      0.56       374\n",
      "\n",
      "    accuracy                           0.79      1407\n",
      "   macro avg       0.73      0.70      0.71      1407\n",
      "weighted avg       0.78      0.79      0.78      1407\n",
      "\n"
     ]
    }
   ],
   "source": [
    "# 1. Import Required Libraries\n",
    "import pandas as pd\n",
    "from sklearn.model_selection import train_test_split\n",
    "from sklearn.preprocessing import StandardScaler\n",
    "from sklearn.ensemble import RandomForestClassifier\n",
    "from sklearn.metrics import classification_report\n",
    "import joblib\n",
    "import json\n",
    "\n",
    "# 2. Load Dataset\n",
    "df = pd.read_csv(\"../data/telco_churn.csv\")\n",
    "\n",
    "# 3. Data Cleaning\n",
    "df['TotalCharges'] = pd.to_numeric(df['TotalCharges'], errors='coerce')  # Convert to numeric\n",
    "df.dropna(inplace=True)  # Drop rows with missing values\n",
    "df.drop(['customerID'], axis=1, inplace=True)  # Remove unnecessary column\n",
    "\n",
    "# 4. One-hot Encoding for Categorical Variables\n",
    "df = pd.get_dummies(df, drop_first=True)\n",
    "\n",
    "# 5. Separate Features and Target\n",
    "X = df.drop('Churn_Yes', axis=1)\n",
    "y = df['Churn_Yes']\n",
    "\n",
    "# 6. Feature Scaling\n",
    "scaler = StandardScaler()\n",
    "X_scaled = scaler.fit_transform(X)\n",
    "\n",
    "# 7. Train/Test Split\n",
    "X_train, X_test, y_train, y_test = train_test_split(\n",
    "    X_scaled, y, test_size=0.2, stratify=y, random_state=42\n",
    ")\n",
    "\n",
    "# 8. Train Model\n",
    "model = RandomForestClassifier(n_estimators=100, random_state=42)\n",
    "model.fit(X_train, y_train)\n",
    "\n",
    "# 9. Evaluate Model\n",
    "y_pred = model.predict(X_test)\n",
    "print(\"Classification Report:\\n\")\n",
    "print(classification_report(y_test, y_pred))\n",
    "\n",
    "# 10. Save Model, Scaler, and Feature Names\n",
    "joblib.dump(model, '../backend/model.pkl')\n",
    "joblib.dump(scaler, '../backend/scaler.pkl')\n",
    "\n",
    "with open('../backend/feature_names.json', 'w') as f:\n",
    "    json.dump(list(X.columns), f)"
   ]
  }
 ],
 "metadata": {
  "kernelspec": {
   "display_name": "venv",
   "language": "python",
   "name": "python3"
  },
  "language_info": {
   "codemirror_mode": {
    "name": "ipython",
    "version": 3
   },
   "file_extension": ".py",
   "mimetype": "text/x-python",
   "name": "python",
   "nbconvert_exporter": "python",
   "pygments_lexer": "ipython3",
   "version": "3.13.2"
  }
 },
 "nbformat": 4,
 "nbformat_minor": 5
}
